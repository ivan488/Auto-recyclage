{
 "cells": [
  {
   "cell_type": "code",
   "execution_count": 9,
   "id": "41a9f864",
   "metadata": {},
   "outputs": [],
   "source": [
    "Kilométrage = {\"Janvier\":250, \"Février\":167, \"Mars\":307, \n",
    "               \"Avril\":203, \"Mai\":109, \"Juin\": 405, \n",
    "               \"Juillet\": 522, \"Août\":206, \"Septembre\":243, \n",
    "               \"Octobre\":255,\"Novembre\":198}"
   ]
  },
  {
   "cell_type": "code",
   "execution_count": 10,
   "id": "d7c35fa3",
   "metadata": {},
   "outputs": [],
   "source": [
    "Kilométrage[\"Décembre\"]=267"
   ]
  },
  {
   "cell_type": "code",
   "execution_count": 11,
   "id": "8cc1f503",
   "metadata": {},
   "outputs": [
    {
     "data": {
      "text/plain": [
       "{'Janvier': 250,\n",
       " 'Février': 167,\n",
       " 'Mars': 307,\n",
       " 'Avril': 203,\n",
       " 'Mai': 109,\n",
       " 'Juin': 405,\n",
       " 'Juillet': 522,\n",
       " 'Août': 206,\n",
       " 'Septembre': 243,\n",
       " 'Octobre': 255,\n",
       " 'Novembre': 198,\n",
       " 'Décembre': 267}"
      ]
     },
     "execution_count": 11,
     "metadata": {},
     "output_type": "execute_result"
    }
   ],
   "source": [
    "Kilométrage"
   ]
  },
  {
   "cell_type": "code",
   "execution_count": 13,
   "id": "2b8b5612",
   "metadata": {},
   "outputs": [
    {
     "data": {
      "text/plain": [
       "307"
      ]
     },
     "execution_count": 13,
     "metadata": {},
     "output_type": "execute_result"
    }
   ],
   "source": [
    "Kilométrage.pop('Mars')"
   ]
  },
  {
   "cell_type": "code",
   "execution_count": 23,
   "id": "a0fef533",
   "metadata": {},
   "outputs": [
    {
     "data": {
      "text/plain": [
       "dict_items([('Janvier', 250), ('Février', 167), ('Avril', 203), ('Mai', 109), ('Juin', 405), ('Juillet', 522), ('Août', 206), ('Septembre', 243), ('Octobre', 255), ('Novembre', 198), ('Décembre', 267)])"
      ]
     },
     "execution_count": 23,
     "metadata": {},
     "output_type": "execute_result"
    }
   ],
   "source": [
    "Kilométrage.items()"
   ]
  },
  {
   "cell_type": "code",
   "execution_count": 18,
   "id": "60af863f",
   "metadata": {},
   "outputs": [
    {
     "name": "stdout",
     "output_type": "stream",
     "text": [
      "Janvier 250\n",
      "Février 167\n",
      "Avril 203\n",
      "Mai 109\n",
      "Juin 405\n",
      "Juillet 522\n",
      "Août 206\n",
      "Septembre 243\n",
      "Octobre 255\n",
      "Novembre 198\n",
      "Décembre 267\n"
     ]
    }
   ],
   "source": [
    "for k,v in Kilométrage.items():\n",
    "    print(k,v)"
   ]
  },
  {
   "cell_type": "code",
   "execution_count": 83,
   "id": "cf72033c",
   "metadata": {},
   "outputs": [],
   "source": [
    "classeur = {\n",
    "    \"positif\":[],\n",
    "    \"négatif\":[]\n",
    "}"
   ]
  },
  {
   "cell_type": "code",
   "execution_count": 86,
   "id": "3b39dfd9",
   "metadata": {},
   "outputs": [],
   "source": [
    "def trier (nombre):\n",
    "    if float (nombre)>0:\n",
    "        classeur[\"positif\"]= float(nombre)\n",
    "    elif float(nombre)<0:\n",
    "        classeur[\"négatif\"]= float(nombre)\n",
    "    return classeur"
   ]
  },
  {
   "cell_type": "code",
   "execution_count": 90,
   "id": "8b9dc0d7",
   "metadata": {},
   "outputs": [
    {
     "data": {
      "text/plain": [
       "{'positif': 5.0, 'négatif': -3.0}"
      ]
     },
     "execution_count": 90,
     "metadata": {},
     "output_type": "execute_result"
    }
   ],
   "source": [
    "trier(5)"
   ]
  },
  {
   "cell_type": "markdown",
   "id": "87357c23",
   "metadata": {},
   "source": [
    "# List comprehension et Dict comprehension"
   ]
  },
  {
   "cell_type": "code",
   "execution_count": 64,
   "id": "490e3f3b",
   "metadata": {},
   "outputs": [],
   "source": [
    "somme_carrés= [i**2 for i in range(3)]"
   ]
  },
  {
   "cell_type": "code",
   "execution_count": 65,
   "id": "a39222de",
   "metadata": {},
   "outputs": [],
   "source": [
    "s_c = [[i**2 for i in range(3)] for j in range (4)]"
   ]
  },
  {
   "cell_type": "code",
   "execution_count": 66,
   "id": "882e9c2a",
   "metadata": {},
   "outputs": [
    {
     "data": {
      "text/plain": [
       "[[0, 1, 4], [0, 1, 4], [0, 1, 4], [0, 1, 4]]"
      ]
     },
     "execution_count": 66,
     "metadata": {},
     "output_type": "execute_result"
    }
   ],
   "source": [
    "s_c"
   ]
  },
  {
   "cell_type": "code",
   "execution_count": 67,
   "id": "93508d09",
   "metadata": {},
   "outputs": [],
   "source": [
    "prenoms = ['Keulie','Yan','Idris','Gael','Michael','Ivan']"
   ]
  },
  {
   "cell_type": "code",
   "execution_count": 69,
   "id": "e9ca8df9",
   "metadata": {},
   "outputs": [],
   "source": [
    "Maison = { k:v for k,v in enumerate(prenoms)}"
   ]
  },
  {
   "cell_type": "code",
   "execution_count": 70,
   "id": "116acc8e",
   "metadata": {},
   "outputs": [
    {
     "data": {
      "text/plain": [
       "{0: 'Keulie', 1: 'Yan', 2: 'Idris', 3: 'Gael', 4: 'Michael', 5: 'Ivan'}"
      ]
     },
     "execution_count": 70,
     "metadata": {},
     "output_type": "execute_result"
    }
   ],
   "source": [
    "Maison"
   ]
  },
  {
   "cell_type": "code",
   "execution_count": 71,
   "id": "bd27b667",
   "metadata": {},
   "outputs": [],
   "source": [
    "ages = [14, 17, 13, 21, 6, 67]"
   ]
  },
  {
   "cell_type": "code",
   "execution_count": 75,
   "id": "04c4d20a",
   "metadata": {},
   "outputs": [],
   "source": [
    "Maison_2 = {prenom:age for prenom,age in zip(prenoms,ages)}"
   ]
  },
  {
   "cell_type": "code",
   "execution_count": 76,
   "id": "f527a706",
   "metadata": {},
   "outputs": [
    {
     "data": {
      "text/plain": [
       "{'Keulie': 14, 'Yan': 17, 'Idris': 13, 'Gael': 21, 'Michael': 6, 'Ivan': 67}"
      ]
     },
     "execution_count": 76,
     "metadata": {},
     "output_type": "execute_result"
    }
   ],
   "source": [
    "Maison_2"
   ]
  },
  {
   "cell_type": "code",
   "execution_count": 78,
   "id": "56028892",
   "metadata": {},
   "outputs": [],
   "source": [
    "Maison_3 = {prenom:age for prenom,age in zip(prenoms,ages) if age>6}"
   ]
  },
  {
   "cell_type": "code",
   "execution_count": 79,
   "id": "7fdf9c1c",
   "metadata": {},
   "outputs": [
    {
     "data": {
      "text/plain": [
       "{'Keulie': 14, 'Yan': 17, 'Idris': 13, 'Gael': 21, 'Ivan': 67}"
      ]
     },
     "execution_count": 79,
     "metadata": {},
     "output_type": "execute_result"
    }
   ],
   "source": [
    "Maison_3"
   ]
  },
  {
   "cell_type": "code",
   "execution_count": 11,
   "id": "be3ae950",
   "metadata": {},
   "outputs": [],
   "source": [
    "keys=[]\n",
    "values=[]\n",
    "for i in range(21):\n",
    "    keys.append(str (i))\n",
    "    values.append(float(i**2))\n",
    "dict_carr= {k:v for k,v in zip(keys,values)}"
   ]
  },
  {
   "cell_type": "code",
   "execution_count": 12,
   "id": "f43be2b2",
   "metadata": {},
   "outputs": [
    {
     "data": {
      "text/plain": [
       "{'0': 0.0,\n",
       " '1': 1.0,\n",
       " '2': 4.0,\n",
       " '3': 9.0,\n",
       " '4': 16.0,\n",
       " '5': 25.0,\n",
       " '6': 36.0,\n",
       " '7': 49.0,\n",
       " '8': 64.0,\n",
       " '9': 81.0,\n",
       " '10': 100.0,\n",
       " '11': 121.0,\n",
       " '12': 144.0,\n",
       " '13': 169.0,\n",
       " '14': 196.0,\n",
       " '15': 225.0,\n",
       " '16': 256.0,\n",
       " '17': 289.0,\n",
       " '18': 324.0,\n",
       " '19': 361.0,\n",
       " '20': 400.0}"
      ]
     },
     "execution_count": 12,
     "metadata": {},
     "output_type": "execute_result"
    }
   ],
   "source": [
    "dict_carr"
   ]
  },
  {
   "cell_type": "code",
   "execution_count": null,
   "id": "b73f389b",
   "metadata": {},
   "outputs": [],
   "source": []
  }
 ],
 "metadata": {
  "kernelspec": {
   "display_name": "Python 3 (ipykernel)",
   "language": "python",
   "name": "python3"
  },
  "language_info": {
   "codemirror_mode": {
    "name": "ipython",
    "version": 3
   },
   "file_extension": ".py",
   "mimetype": "text/x-python",
   "name": "python",
   "nbconvert_exporter": "python",
   "pygments_lexer": "ipython3",
   "version": "3.8.10"
  }
 },
 "nbformat": 4,
 "nbformat_minor": 5
}
