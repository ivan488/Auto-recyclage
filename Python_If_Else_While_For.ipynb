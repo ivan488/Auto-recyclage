{
 "cells": [
  {
   "cell_type": "code",
   "execution_count": 35,
   "id": "3865a7fd",
   "metadata": {},
   "outputs": [
    {
     "name": "stdout",
     "output_type": "stream",
     "text": [
      "Tu es chez toi\n",
      "Bienvenue à la maison Keulie \n",
      "Tu es chez toi\n",
      "N'DEPO est un 00V\n",
      "Tu es chez toi\n",
      "N'DEPO est un 00V\n",
      "N'DEPO est un 00V\n",
      "Tu es chez toi\n",
      "N'DEPO est un 00V\n",
      "N'DEPO est un 00V\n",
      "Tu es chez toi\n",
      "N'DEPO est un 00V\n",
      "N'DEPO est un 00V\n",
      "Tu es chez toi\n",
      "N'DEPO est un 00V\n",
      "N'DEPO est un 00V\n",
      "Tu es chez toi\n",
      "N'DEPO est un 00V\n",
      "N'DEPO est un 00V\n",
      "Tu es chez toi\n",
      "N'DEPO est un 00V\n"
     ]
    }
   ],
   "source": [
    "Noms= ['Keulie','Yan','Gael','Idris','Michael','Natou','Ivan']\n",
    "Pays= ['Cameroun','Italie','Belgique']\n",
    "for i in Noms:\n",
    "    for j in Pays:\n",
    "        if i == 'Keulie' and j== 'Italie':\n",
    "            print('Bienvenue à la maison {prénom} '.format(prénom=i))\n",
    "        elif i=='Keulie' or j=='Italie':\n",
    "            print('Tu es chez toi')\n",
    "        else :\n",
    "            print(\"N'DEPO est un 00V\")"
   ]
  },
  {
   "cell_type": "code",
   "execution_count": 40,
   "id": "02eaab9e",
   "metadata": {},
   "outputs": [],
   "source": [
    "range?"
   ]
  },
  {
   "cell_type": "code",
   "execution_count": null,
   "id": "405ec3b3",
   "metadata": {},
   "outputs": [],
   "source": []
  }
 ],
 "metadata": {
  "kernelspec": {
   "display_name": "Python 3 (ipykernel)",
   "language": "python",
   "name": "python3"
  },
  "language_info": {
   "codemirror_mode": {
    "name": "ipython",
    "version": 3
   },
   "file_extension": ".py",
   "mimetype": "text/x-python",
   "name": "python",
   "nbconvert_exporter": "python",
   "pygments_lexer": "ipython3",
   "version": "3.8.10"
  }
 },
 "nbformat": 4,
 "nbformat_minor": 5
}
