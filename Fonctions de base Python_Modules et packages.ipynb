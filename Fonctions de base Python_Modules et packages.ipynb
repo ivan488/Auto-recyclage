{
 "cells": [
  {
   "cell_type": "code",
   "execution_count": 8,
   "id": "677b7c37",
   "metadata": {},
   "outputs": [
    {
     "name": "stdout",
     "output_type": "stream",
     "text": [
      "entrer un nombre:6\n"
     ]
    }
   ],
   "source": [
    "x= int(input('entrer un nombre:'))"
   ]
  },
  {
   "cell_type": "code",
   "execution_count": 9,
   "id": "07697aaa",
   "metadata": {},
   "outputs": [
    {
     "data": {
      "text/plain": [
       "6"
      ]
     },
     "execution_count": 9,
     "metadata": {},
     "output_type": "execute_result"
    }
   ],
   "source": [
    "x"
   ]
  },
  {
   "cell_type": "code",
   "execution_count": 14,
   "id": "63770c90",
   "metadata": {},
   "outputs": [
    {
     "name": "stdout",
     "output_type": "stream",
     "text": [
      "la température de la ville Douala est de 30 °C\n",
      "la température de la ville Bafoussam est de 26 °C\n",
      "la température de la ville Halle est de 2 °C\n",
      "la température de la ville Bruxelles est de 7 °C\n",
      "la température de la ville Trento est de -4 °C\n",
      "la température de la ville Paris est de 12 °C\n"
     ]
    }
   ],
   "source": [
    "température = {'Douala':30,'Bafoussam':26,'Halle':2, 'Bruxelles':7, 'Trento': -4, 'Paris':12}\n",
    "for k,v in température.items():\n",
    "    print(f'la température de la ville {k} est de {v} °C')"
   ]
  },
  {
   "cell_type": "code",
   "execution_count": 25,
   "id": "23fe737d",
   "metadata": {},
   "outputs": [],
   "source": [
    "with open ('test_python.txt', 'w') as f:\n",
    "    température = {'Douala':30,'Bafoussam':26,'Halle':2, 'Bruxelles':7, 'Trento': -4, 'Paris':12}\n",
    "    for k,v in température.items():\n",
    "        f.write(\"la température de la ville {k} est de {v} °C \\n\".format(k=k,v=v))"
   ]
  },
  {
   "cell_type": "code",
   "execution_count": 36,
   "id": "e0a38f0d",
   "metadata": {},
   "outputs": [
    {
     "name": "stdout",
     "output_type": "stream",
     "text": [
      "la température de la ville Douala est de 30 °C \n",
      "la température de la ville Bafoussam est de 26 °C \n",
      "la température de la ville Halle est de 2 °C \n",
      "la température de la ville Bruxelles est de 7 °C \n",
      "la température de la ville Trento est de -4 °C \n",
      "la température de la ville Paris est de 12 °C \n",
      "\n"
     ]
    }
   ],
   "source": [
    "with open ('test_python.txt', 'r') as f:\n",
    "    print(f.read())"
   ]
  },
  {
   "cell_type": "code",
   "execution_count": 156,
   "id": "5a56769a",
   "metadata": {},
   "outputs": [],
   "source": [
    "with open ('carrés_nombres.txt','w') as g:\n",
    "    carré=[]\n",
    "    for i in range (10):\n",
    "        carré.append(g.write(\"{j} \\n\".format(j=float(i)**2)))"
   ]
  },
  {
   "cell_type": "code",
   "execution_count": 161,
   "id": "9817fc76",
   "metadata": {},
   "outputs": [
    {
     "data": {
      "text/plain": [
       "['0.0 \\n',\n",
       " '1.0 \\n',\n",
       " '4.0 \\n',\n",
       " '9.0 \\n',\n",
       " '16.0 \\n',\n",
       " '25.0 \\n',\n",
       " '36.0 \\n',\n",
       " '49.0 \\n',\n",
       " '64.0 \\n',\n",
       " '81.0 \\n']"
      ]
     },
     "execution_count": 161,
     "metadata": {},
     "output_type": "execute_result"
    }
   ],
   "source": [
    "test=[line for line in open ('carrés_nombres.txt','r')]\n",
    "test"
   ]
  },
  {
   "cell_type": "code",
   "execution_count": 162,
   "id": "3118b356",
   "metadata": {},
   "outputs": [
    {
     "data": {
      "text/plain": [
       "['0.0', '1.0', '4.0', '9.0', '16.0', '25.0', '36.0', '49.0', '64.0', '81.0']"
      ]
     },
     "execution_count": 162,
     "metadata": {},
     "output_type": "execute_result"
    }
   ],
   "source": [
    "test_2=[line.strip() for line in open ('carrés_nombres.txt','r')]\n",
    "test_2"
   ]
  },
  {
   "cell_type": "markdown",
   "id": "da4953cd",
   "metadata": {},
   "source": [
    "# Modules et Packages"
   ]
  },
  {
   "cell_type": "raw",
   "id": "16786a55",
   "metadata": {},
   "source": [
    "1-Le dossier \"pycache\" permet de créer les connections entre les différents modules\n",
    "2-Si on veut importer tout ce qui exiwte dans un module en python on peut utiliser l'étoile:\n",
    "(exemple: from \"module\" import *)\n",
    "3-\"docs.python.org\": documentation officielle de python\n",
    "4-Un module c'est du code avec plusieurs fonctions et classes\n",
    "5-Un package est un ensemble de plusieurs modules distincts (ex: Matplotlib est un package avec comme module Pyplot)\n"
   ]
  },
  {
   "cell_type": "markdown",
   "id": "2cba5542",
   "metadata": {},
   "source": [
    "### Quelques modules importants"
   ]
  },
  {
   "cell_type": "code",
   "execution_count": 40,
   "id": "c0f2afd7",
   "metadata": {},
   "outputs": [],
   "source": [
    "import math # Ce module nous permet d'effectuer des opérations mathématiques"
   ]
  },
  {
   "cell_type": "code",
   "execution_count": 43,
   "id": "67ed1ff8",
   "metadata": {},
   "outputs": [
    {
     "name": "stdout",
     "output_type": "stream",
     "text": [
      "-1.0\n"
     ]
    }
   ],
   "source": [
    "print(math.cos(math.pi))"
   ]
  },
  {
   "cell_type": "code",
   "execution_count": 45,
   "id": "85d66d06",
   "metadata": {},
   "outputs": [
    {
     "data": {
      "text/plain": [
       "2.718281828459045"
      ]
     },
     "execution_count": 45,
     "metadata": {},
     "output_type": "execute_result"
    }
   ],
   "source": [
    "math.exp(1)"
   ]
  },
  {
   "cell_type": "code",
   "execution_count": 46,
   "id": "c468c4b2",
   "metadata": {},
   "outputs": [],
   "source": [
    "import statistics #Ce module nous permet de faire les statistiques"
   ]
  },
  {
   "cell_type": "code",
   "execution_count": 74,
   "id": "0e039f61",
   "metadata": {},
   "outputs": [
    {
     "name": "stdout",
     "output_type": "stream",
     "text": [
      "Keulie\n"
     ]
    }
   ],
   "source": [
    "import random #Il permet de créer des nombres aléatoires, créer des listes remplies de nombres aléatoires ou choisir aléatoirement un élément d'une liste\n",
    "print(random.choice(['Keulie','Yan','Michael','Idris','Natou','Gael','Ivan']))"
   ]
  },
  {
   "cell_type": "code",
   "execution_count": 80,
   "id": "bad4db7e",
   "metadata": {},
   "outputs": [
    {
     "data": {
      "text/plain": [
       "0.502850697369303"
      ]
     },
     "execution_count": 80,
     "metadata": {},
     "output_type": "execute_result"
    }
   ],
   "source": [
    "random.random() #retourne un nombre aléatoire décimal"
   ]
  },
  {
   "cell_type": "code",
   "execution_count": 84,
   "id": "7a6b80bb",
   "metadata": {},
   "outputs": [
    {
     "data": {
      "text/plain": [
       "19"
      ]
     },
     "execution_count": 84,
     "metadata": {},
     "output_type": "execute_result"
    }
   ],
   "source": [
    "random.randint(4,25) #retourne un nombre aléatoire entier"
   ]
  },
  {
   "cell_type": "code",
   "execution_count": 106,
   "id": "1c0dc317",
   "metadata": {},
   "outputs": [
    {
     "data": {
      "text/plain": [
       "9"
      ]
     },
     "execution_count": 106,
     "metadata": {},
     "output_type": "execute_result"
    }
   ],
   "source": [
    "random.randrange(24)"
   ]
  },
  {
   "cell_type": "code",
   "execution_count": 111,
   "id": "f28725b7",
   "metadata": {},
   "outputs": [],
   "source": [
    "liste_3= random.sample(range(50),10)"
   ]
  },
  {
   "cell_type": "code",
   "execution_count": 112,
   "id": "b4da8ec6",
   "metadata": {},
   "outputs": [
    {
     "data": {
      "text/plain": [
       "[20, 4]"
      ]
     },
     "execution_count": 112,
     "metadata": {},
     "output_type": "execute_result"
    }
   ],
   "source": [
    "liste=random.sample(range(30),random.randrange(6))\n",
    "liste"
   ]
  },
  {
   "cell_type": "code",
   "execution_count": 123,
   "id": "9efdac39",
   "metadata": {},
   "outputs": [],
   "source": [
    "liste_4=[i for i in range (10)]"
   ]
  },
  {
   "cell_type": "code",
   "execution_count": 132,
   "id": "5bc5855d",
   "metadata": {},
   "outputs": [
    {
     "name": "stdout",
     "output_type": "stream",
     "text": [
      "None\n"
     ]
    }
   ],
   "source": [
    "random.shuffle(liste_4)#(NE FONCTIONNE PAS) permet de melanger aléatoirement les données qu'on aurait dans une structure de donnée comme une liste par exemple"
   ]
  },
  {
   "cell_type": "markdown",
   "id": "bd7e5a7e",
   "metadata": {},
   "source": [
    "### Le module os"
   ]
  },
  {
   "cell_type": "code",
   "execution_count": 134,
   "id": "f35e6526",
   "metadata": {},
   "outputs": [],
   "source": [
    "import os #OS: Operating system"
   ]
  },
  {
   "cell_type": "code",
   "execution_count": 136,
   "id": "54a8d83f",
   "metadata": {},
   "outputs": [
    {
     "data": {
      "text/plain": [
       "'/home/nanfo'"
      ]
     },
     "execution_count": 136,
     "metadata": {},
     "output_type": "execute_result"
    }
   ],
   "source": [
    "os.getcwd()#Get current working directory "
   ]
  },
  {
   "cell_type": "markdown",
   "id": "50b63377",
   "metadata": {},
   "source": [
    "### Le module Glob"
   ]
  },
  {
   "cell_type": "code",
   "execution_count": 140,
   "id": "922499c6",
   "metadata": {},
   "outputs": [],
   "source": [
    "import glob"
   ]
  },
  {
   "cell_type": "code",
   "execution_count": 143,
   "id": "edee2cb3",
   "metadata": {},
   "outputs": [],
   "source": [
    "y = glob.glob(\"*\") #cette fonction retourne une liste qui contient tous les noms des fichiers qu'on a dans notre répertoire de travail "
   ]
  },
  {
   "cell_type": "code",
   "execution_count": 157,
   "id": "e1310666",
   "metadata": {},
   "outputs": [
    {
     "data": {
      "text/plain": [
       "['carrés_nombres.txt', 'test_python.txt']"
      ]
     },
     "execution_count": 157,
     "metadata": {},
     "output_type": "execute_result"
    }
   ],
   "source": [
    "file = glob.glob(\"*.txt\") #permet de filtrer tous les fichiers txt\n",
    "file"
   ]
  },
  {
   "cell_type": "code",
   "execution_count": 152,
   "id": "b1c69142",
   "metadata": {},
   "outputs": [
    {
     "name": "stdout",
     "output_type": "stream",
     "text": [
      "la température de la ville Douala est de 30 °C \n",
      "la température de la ville Bafoussam est de 26 °C \n",
      "la température de la ville Halle est de 2 °C \n",
      "la température de la ville Bruxelles est de 7 °C \n",
      "la température de la ville Trento est de -4 °C \n",
      "la température de la ville Paris est de 12 °C \n",
      "\n"
     ]
    }
   ],
   "source": [
    "for i in file:\n",
    "    with open (i,'r') as f:\n",
    "        print(f.read())"
   ]
  },
  {
   "cell_type": "code",
   "execution_count": null,
   "id": "780e3515",
   "metadata": {},
   "outputs": [],
   "source": []
  }
 ],
 "metadata": {
  "kernelspec": {
   "display_name": "Python 3 (ipykernel)",
   "language": "python",
   "name": "python3"
  },
  "language_info": {
   "codemirror_mode": {
    "name": "ipython",
    "version": 3
   },
   "file_extension": ".py",
   "mimetype": "text/x-python",
   "name": "python",
   "nbconvert_exporter": "python",
   "pygments_lexer": "ipython3",
   "version": "3.8.10"
  }
 },
 "nbformat": 4,
 "nbformat_minor": 5
}
