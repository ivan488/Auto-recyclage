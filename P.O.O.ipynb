{
 "cells": [
  {
   "cell_type": "markdown",
   "id": "79d60e2b",
   "metadata": {},
   "source": [
    "1- Avec la P.O.O on considère que tout ce qui nous entoure est objet, chaque objet étant caractérisé par ses \"attributs\", tout objet peut également effectuer des actions, ces actions \"Méthodes\" peuvent modifier les attributs de l'objet en question et également ceux d'autres objets\n",
    "2- En résumé, avec le paradigme de la P.O.O, on considère que nootre univers peut être modélisé avec trois notions: \"Les objets\",\"les attributs\" et \"les méthodes\".\n",
    "3-Une \"classe\" est le plan de conception qui nous permet de créer des objets du même type ou d'une même classe\n",
    "4-Pour créer on objet à partir d'une classe on utilise ce qu'on appelle un \"constructeur\"\n",
    "5-La P.O.O permet de mieux structurer et orienter notre code, elle permet egalement d'avoir un code plus modulaire et plus évolutif, elle permet également de réduire les dépendances\n",
    "6-Instancier un objet consiste en sa création. Une instance est un objet de la classe\n",
    "7-Dans notre classe nous avons besoin d'un constructeur qui sera appelé chaque fois qu'un objet devrait être instancier\n",
    "8-Lorqu'une classe hérite d'une autre, alors la classe fille peut avoir des attributs et des méthodes différentes de la classe mère."
   ]
  },
  {
   "cell_type": "markdown",
   "id": "58b77254",
   "metadata": {},
   "source": [
    "1-On parle de méthode d'instance lorsqu'on travaille sur un objet et de méthode de classe lorsque la méthode est appelée directement sur la classe\n",
    "2-Une variable de classe s'applique aux objets de même type"
   ]
  },
  {
   "cell_type": "code",
   "execution_count": 2,
   "id": "62c16430",
   "metadata": {},
   "outputs": [],
   "source": [
    "class Personne:\n",
    "    def __init__(self, nom : str,age :float, pays):\n",
    "        self.nom=nom\n",
    "        self.age = age\n",
    "        self.pays = pays\n",
    "    def SePresenter(self):\n",
    "        print(f\"bonjour je m'appelle {self.nom} j'ai {self.age} ans et je vis en {self.pays}\")\n",
    "        if self.EstMajeur():\n",
    "            print('Je suis majeur')\n",
    "        else:\n",
    "            print('Je suis mineur')\n",
    "    def EstMajeur(self):\n",
    "        return self.age>= 18"
   ]
  },
  {
   "cell_type": "code",
   "execution_count": 3,
   "id": "af112bb4",
   "metadata": {},
   "outputs": [],
   "source": [
    "Keulie = Personne('keulie',26,'Italie')"
   ]
  },
  {
   "cell_type": "code",
   "execution_count": 4,
   "id": "7fed4db0",
   "metadata": {},
   "outputs": [
    {
     "name": "stdout",
     "output_type": "stream",
     "text": [
      "bonjour je m'appelle keulie j'ai 26 ans et je vis en Italie\n",
      "Je suis majeur\n"
     ]
    }
   ],
   "source": [
    "Keulie.SePresenter()"
   ]
  },
  {
   "cell_type": "code",
   "execution_count": 5,
   "id": "079d6b4c",
   "metadata": {},
   "outputs": [
    {
     "data": {
      "text/plain": [
       "True"
      ]
     },
     "execution_count": 5,
     "metadata": {},
     "output_type": "execute_result"
    }
   ],
   "source": [
    "Keulie.EstMajeur()"
   ]
  },
  {
   "cell_type": "code",
   "execution_count": 36,
   "id": "d538abfb",
   "metadata": {},
   "outputs": [],
   "source": [
    "class Demander(Personne):\n",
    "    def __init__(self, nom : str,age :float, pays):\n",
    "        super().__init__(nom, age,pays)\n",
    "        self.nom =nom\n",
    "    def DemanderNom(self):\n",
    "        self.nom = input (\"Quel est votre nom?\")\n",
    "        while self.nom == \"\":\n",
    "            print (\"Veuillez entrer un nom valide\")\n",
    "            self.nom = input (\"Quel est votre nom?\")\n",
    "        if self.age == 0:\n",
    "            print(f\"Je m'appelle {self.nom}\")\n",
    "        else :\n",
    "            print (f\"{self.SePresenter()}\")"
   ]
  },
  {
   "cell_type": "code",
   "execution_count": 37,
   "id": "64f1c4d2",
   "metadata": {},
   "outputs": [],
   "source": [
    "yan= Demander('yan',23,'CIV')"
   ]
  },
  {
   "cell_type": "code",
   "execution_count": 38,
   "id": "ea8de4fd",
   "metadata": {},
   "outputs": [
    {
     "name": "stdout",
     "output_type": "stream",
     "text": [
      "Quel est votre nom?\n",
      "Veuillez entrer un nom valide\n",
      "Quel est votre nom?\n",
      "Veuillez entrer un nom valide\n",
      "Quel est votre nom?\n",
      "Veuillez entrer un nom valide\n",
      "Quel est votre nom?\n",
      "Veuillez entrer un nom valide\n",
      "Quel est votre nom?\n",
      "Veuillez entrer un nom valide\n",
      "Quel est votre nom?\n",
      "Veuillez entrer un nom valide\n",
      "Quel est votre nom?\n",
      "Veuillez entrer un nom valide\n",
      "Quel est votre nom?Yan\n",
      "bonjour je m'appelle Yan j'ai 23 ans et je vis en CIV\n",
      "Je suis majeur\n",
      "None\n"
     ]
    }
   ],
   "source": [
    "yan.DemanderNom()"
   ]
  },
  {
   "cell_type": "code",
   "execution_count": 27,
   "id": "2df9bf3a",
   "metadata": {},
   "outputs": [
    {
     "data": {
      "text/plain": [
       "False"
      ]
     },
     "execution_count": 27,
     "metadata": {},
     "output_type": "execute_result"
    }
   ],
   "source": [
    "yan.EstMajeur()"
   ]
  },
  {
   "cell_type": "code",
   "execution_count": null,
   "id": "a410c797",
   "metadata": {},
   "outputs": [],
   "source": []
  }
 ],
 "metadata": {
  "kernelspec": {
   "display_name": "Python 3 (ipykernel)",
   "language": "python",
   "name": "python3"
  },
  "language_info": {
   "codemirror_mode": {
    "name": "ipython",
    "version": 3
   },
   "file_extension": ".py",
   "mimetype": "text/x-python",
   "name": "python",
   "nbconvert_exporter": "python",
   "pygments_lexer": "ipython3",
   "version": "3.8.10"
  }
 },
 "nbformat": 4,
 "nbformat_minor": 5
}
