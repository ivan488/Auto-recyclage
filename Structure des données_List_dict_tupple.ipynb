{
 "cells": [
  {
   "cell_type": "code",
   "execution_count": 1,
   "id": "964bef81",
   "metadata": {},
   "outputs": [],
   "source": [
    "villes_fr = ['Douala', 'Yaoundé', 'Bafoussam','Garoua','Maroua','Ngaoundéré','Bertoua','Ebolowa']"
   ]
  },
  {
   "cell_type": "code",
   "execution_count": 2,
   "id": "7e1723b6",
   "metadata": {},
   "outputs": [],
   "source": [
    "villes_fr.insert(0,'Dschang')"
   ]
  },
  {
   "cell_type": "code",
   "execution_count": 3,
   "id": "60887ec9",
   "metadata": {},
   "outputs": [],
   "source": [
    "villes_ang = ['Buéa','Bamenda']"
   ]
  },
  {
   "cell_type": "code",
   "execution_count": 4,
   "id": "ebb4e78f",
   "metadata": {},
   "outputs": [],
   "source": [
    "villes_cam=[villes_fr.extend(villes_ang)]"
   ]
  },
  {
   "cell_type": "code",
   "execution_count": 5,
   "id": "4afe3abd",
   "metadata": {},
   "outputs": [],
   "source": [
    "villes_cam = villes_fr"
   ]
  },
  {
   "cell_type": "code",
   "execution_count": 6,
   "id": "f5c0bbfa",
   "metadata": {},
   "outputs": [
    {
     "data": {
      "text/plain": [
       "['Dschang',\n",
       " 'Douala',\n",
       " 'Yaoundé',\n",
       " 'Bafoussam',\n",
       " 'Garoua',\n",
       " 'Maroua',\n",
       " 'Ngaoundéré',\n",
       " 'Bertoua',\n",
       " 'Ebolowa',\n",
       " 'Buéa',\n",
       " 'Bamenda']"
      ]
     },
     "execution_count": 6,
     "metadata": {},
     "output_type": "execute_result"
    }
   ],
   "source": [
    "villes_cam"
   ]
  },
  {
   "cell_type": "code",
   "execution_count": 16,
   "id": "f328db99",
   "metadata": {},
   "outputs": [],
   "source": [
    "villes_cam.sort()"
   ]
  },
  {
   "cell_type": "code",
   "execution_count": 17,
   "id": "675db9c2",
   "metadata": {},
   "outputs": [
    {
     "data": {
      "text/plain": [
       "['Bafoussam',\n",
       " 'Bamenda',\n",
       " 'Bertoua',\n",
       " 'Buéa',\n",
       " 'Douala',\n",
       " 'Dschang',\n",
       " 'Ebolowa',\n",
       " 'Garoua',\n",
       " 'Maroua',\n",
       " 'Ngaoundéré',\n",
       " 'Yaoundé']"
      ]
     },
     "execution_count": 17,
     "metadata": {},
     "output_type": "execute_result"
    }
   ],
   "source": [
    "villes_cam"
   ]
  },
  {
   "cell_type": "code",
   "execution_count": 18,
   "id": "3f35caac",
   "metadata": {},
   "outputs": [],
   "source": [
    "villes_cam.reverse()"
   ]
  },
  {
   "cell_type": "code",
   "execution_count": 19,
   "id": "55063f56",
   "metadata": {},
   "outputs": [
    {
     "data": {
      "text/plain": [
       "['Yaoundé',\n",
       " 'Ngaoundéré',\n",
       " 'Maroua',\n",
       " 'Garoua',\n",
       " 'Ebolowa',\n",
       " 'Dschang',\n",
       " 'Douala',\n",
       " 'Buéa',\n",
       " 'Bertoua',\n",
       " 'Bamenda',\n",
       " 'Bafoussam']"
      ]
     },
     "execution_count": 19,
     "metadata": {},
     "output_type": "execute_result"
    }
   ],
   "source": [
    "villes_cam"
   ]
  },
  {
   "cell_type": "code",
   "execution_count": 23,
   "id": "6869c158",
   "metadata": {},
   "outputs": [],
   "source": [
    "villes_cam.remove('Dschang')"
   ]
  },
  {
   "cell_type": "code",
   "execution_count": 24,
   "id": "d211cfb3",
   "metadata": {},
   "outputs": [
    {
     "data": {
      "text/plain": [
       "['Yaoundé',\n",
       " 'Ngaoundéré',\n",
       " 'Maroua',\n",
       " 'Garoua',\n",
       " 'Ebolowa',\n",
       " 'Douala',\n",
       " 'Buéa',\n",
       " 'Bertoua',\n",
       " 'Bamenda',\n",
       " 'Bafoussam']"
      ]
     },
     "execution_count": 24,
     "metadata": {},
     "output_type": "execute_result"
    }
   ],
   "source": [
    "villes_cam"
   ]
  },
  {
   "cell_type": "code",
   "execution_count": 27,
   "id": "4bffa46c",
   "metadata": {},
   "outputs": [
    {
     "data": {
      "text/plain": [
       "'Yaoundé'"
      ]
     },
     "execution_count": 27,
     "metadata": {},
     "output_type": "execute_result"
    }
   ],
   "source": [
    "villes_cam.pop(0)"
   ]
  },
  {
   "cell_type": "code",
   "execution_count": 30,
   "id": "7ee6ae31",
   "metadata": {},
   "outputs": [],
   "source": [
    "villes_cam.insert(0,'Yaoundé')"
   ]
  },
  {
   "cell_type": "code",
   "execution_count": 31,
   "id": "d8e70e0b",
   "metadata": {},
   "outputs": [
    {
     "data": {
      "text/plain": [
       "['Yaoundé',\n",
       " 'Ngaoundéré',\n",
       " 'Maroua',\n",
       " 'Garoua',\n",
       " 'Ebolowa',\n",
       " 'Douala',\n",
       " 'Buéa',\n",
       " 'Bertoua',\n",
       " 'Bamenda',\n",
       " 'Bafoussam']"
      ]
     },
     "execution_count": 31,
     "metadata": {},
     "output_type": "execute_result"
    }
   ],
   "source": [
    "villes_cam"
   ]
  },
  {
   "cell_type": "code",
   "execution_count": 33,
   "id": "298c55af",
   "metadata": {},
   "outputs": [
    {
     "name": "stdout",
     "output_type": "stream",
     "text": [
      "non\n"
     ]
    }
   ],
   "source": [
    "if 'Dschang' in villes_cam:\n",
    "    print('oui')\n",
    "else :\n",
    "    print('non')"
   ]
  },
  {
   "cell_type": "code",
   "execution_count": 35,
   "id": "61b7ddce",
   "metadata": {},
   "outputs": [
    {
     "name": "stdout",
     "output_type": "stream",
     "text": [
      "Yaoundé\n",
      "Ngaoundéré\n",
      "Maroua\n",
      "Garoua\n",
      "Ebolowa\n",
      "Douala\n",
      "Buéa\n",
      "Bertoua\n",
      "Bamenda\n",
      "Bafoussam\n"
     ]
    }
   ],
   "source": [
    "for i in villes_cam:\n",
    "    print(i)"
   ]
  },
  {
   "cell_type": "code",
   "execution_count": 36,
   "id": "da7d96ed",
   "metadata": {},
   "outputs": [
    {
     "name": "stdout",
     "output_type": "stream",
     "text": [
      "0 Yaoundé\n",
      "1 Ngaoundéré\n",
      "2 Maroua\n",
      "3 Garoua\n",
      "4 Ebolowa\n",
      "5 Douala\n",
      "6 Buéa\n",
      "7 Bertoua\n",
      "8 Bamenda\n",
      "9 Bafoussam\n"
     ]
    }
   ],
   "source": [
    "for index, value in enumerate (villes_cam):\n",
    "    print (index, value)"
   ]
  },
  {
   "cell_type": "code",
   "execution_count": 38,
   "id": "83a258fb",
   "metadata": {},
   "outputs": [],
   "source": [
    "enumerate?"
   ]
  },
  {
   "cell_type": "code",
   "execution_count": 39,
   "id": "1ae150fc",
   "metadata": {},
   "outputs": [
    {
     "name": "stdout",
     "output_type": "stream",
     "text": [
      "Yaoundé Yaoundé\n",
      "Ngaoundéré Ngaoundéré\n",
      "Maroua Maroua\n",
      "Garoua Garoua\n",
      "Ebolowa Ebolowa\n",
      "Douala Douala\n",
      "Buéa Buéa\n",
      "Bertoua Bertoua\n",
      "Bamenda Bamenda\n",
      "Bafoussam Bafoussam\n"
     ]
    }
   ],
   "source": [
    "for i, j in zip (villes_cam,villes_fr):\n",
    "    print(i,j)"
   ]
  },
  {
   "cell_type": "code",
   "execution_count": null,
   "id": "f115ca13",
   "metadata": {},
   "outputs": [],
   "source": []
  }
 ],
 "metadata": {
  "kernelspec": {
   "display_name": "Python 3 (ipykernel)",
   "language": "python",
   "name": "python3"
  },
  "language_info": {
   "codemirror_mode": {
    "name": "ipython",
    "version": 3
   },
   "file_extension": ".py",
   "mimetype": "text/x-python",
   "name": "python",
   "nbconvert_exporter": "python",
   "pygments_lexer": "ipython3",
   "version": "3.8.10"
  }
 },
 "nbformat": 4,
 "nbformat_minor": 5
}
